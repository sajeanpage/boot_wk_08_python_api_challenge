{
 "cells": [
  {
   "cell_type": "markdown",
   "metadata": {},
   "source": [
    "# WeatherPy"
   ]
  },
  {
   "cell_type": "code",
   "execution_count": 1,
   "metadata": {},
   "outputs": [],
   "source": [
    "# pip install citipy"
   ]
  },
  {
   "cell_type": "code",
   "execution_count": 2,
   "metadata": {
    "scrolled": true
   },
   "outputs": [],
   "source": [
    "# declarations\n",
    "import matplotlib.pyplot as plt\n",
    "import pandas as pd\n",
    "import numpy as np\n",
    "import requests\n",
    "import time\n",
    "from scipy.stats import linregress\n",
    "import scipy.stats as st\n",
    "from datetime import datetime\n",
    "from api_keys import weather_api_key\n",
    "from citipy import citipy\n",
    "import json"
   ]
  },
  {
   "cell_type": "code",
   "execution_count": 3,
   "metadata": {},
   "outputs": [],
   "source": [
    "# initializations\n",
    "output_data_folder = \"output_data/\"\n",
    "output_data_file = \"output_data/cities.csv\"\n",
    "lat_range = (-90, 90)\n",
    "lng_range = (-180, 180)\n",
    "lat_lngs = []\n",
    "cities = []\n",
    "\n",
    "# random lat and lng combinations\n",
    "lats = np.random.uniform(lat_range[0], lat_range[1], size=1500)\n",
    "lngs = np.random.uniform(lng_range[0], lng_range[1], size=1500)\n",
    "lat_lngs = zip(lats, lngs)"
   ]
  },
  {
   "cell_type": "markdown",
   "metadata": {},
   "source": [
    "## Generate Cities List"
   ]
  },
  {
   "cell_type": "code",
   "execution_count": 4,
   "metadata": {},
   "outputs": [
    {
     "name": "stdout",
     "output_type": "stream",
     "text": [
      "622 cities\n"
     ]
    }
   ],
   "source": [
    "# Identify nearest city for each lat, lng combination\n",
    "for lat_lng in lat_lngs:\n",
    "    city = citipy.nearest_city(lat_lng[0], lat_lng[1]).city_name\n",
    "    \n",
    "    # If the city is unique, then add it to a our cities list\n",
    "    if city not in cities:\n",
    "        cities.append(city)\n",
    "\n",
    "# Print the city count to confirm sufficient count\n",
    "print(f\"{len(cities)} cities\") "
   ]
  },
  {
   "cell_type": "markdown",
   "metadata": {},
   "source": [
    "### Perform API Calls"
   ]
  },
  {
   "cell_type": "code",
   "execution_count": 5,
   "metadata": {},
   "outputs": [
    {
     "name": "stdout",
     "output_type": "stream",
     "text": [
      "Beginning Data Retrieval\n",
      "-----------------------------\n",
      "Processing Record 1 of Set 1 | ushuaia\n",
      "Processing Record 2 of Set 1 | albany\n",
      "Processing Record 3 of Set 1 | lagoa\n",
      "Processing Record 4 of Set 1 | valleyview\n",
      "Processing Record 5 of Set 1 | ixtapa\n",
      "Processing Record 6 of Set 1 | atuona\n",
      "Processing Record 7 of Set 1 | channel-port aux basques\n",
      "Processing Record 8 of Set 1 | nuuk\n",
      "Processing Record 9 of Set 1 | sao jose da coroa grande\n",
      "Processing Record 10 of Set 1 | nome\n",
      "City not found (belushya guba).  Skipping...\n",
      "City not found (saleaula).  Skipping...\n",
      "Processing Record 13 of Set 1 | hobart\n",
      "Processing Record 14 of Set 1 | victoria\n",
      "Processing Record 15 of Set 1 | dikson\n",
      "Processing Record 16 of Set 1 | dunedin\n",
      "Processing Record 17 of Set 1 | provideniya\n",
      "Processing Record 18 of Set 1 | yulara\n",
      "City not found (mys shmidta).  Skipping...\n",
      "Processing Record 20 of Set 1 | cape town\n",
      "Processing Record 21 of Set 1 | narsaq\n",
      "Processing Record 22 of Set 1 | surab\n",
      "Processing Record 23 of Set 1 | tautira\n",
      "Processing Record 24 of Set 1 | punta arenas\n",
      "Processing Record 25 of Set 1 | kambove\n",
      "Processing Record 26 of Set 1 | mataura\n",
      "Processing Record 27 of Set 1 | mar del plata\n",
      "Processing Record 28 of Set 1 | buala\n",
      "City not found (illoqqortoormiut).  Skipping...\n",
      "Processing Record 30 of Set 1 | moose factory\n",
      "Processing Record 31 of Set 1 | bambous virieux\n",
      "City not found (ruatoria).  Skipping...\n",
      "Processing Record 33 of Set 1 | the valley\n",
      "Processing Record 34 of Set 1 | castrillon\n",
      "Processing Record 35 of Set 1 | butaritari\n",
      "Processing Record 36 of Set 1 | ribeira grande\n",
      "Processing Record 37 of Set 1 | east london\n",
      "Processing Record 38 of Set 1 | acurenam\n",
      "Processing Record 39 of Set 1 | tete\n",
      "Processing Record 40 of Set 1 | penzance\n",
      "Processing Record 41 of Set 1 | georgetown\n",
      "City not found (barentsburg).  Skipping...\n",
      "Processing Record 43 of Set 1 | kodiak\n",
      "Processing Record 44 of Set 1 | chumikan\n",
      "Processing Record 45 of Set 1 | tilichiki\n",
      "Processing Record 46 of Set 1 | touros\n",
      "Processing Record 47 of Set 1 | taltal\n",
      "Processing Record 48 of Set 1 | jamestown\n",
      "Processing Record 49 of Set 1 | torbay\n",
      "Processing Record 50 of Set 1 | oussouye\n",
      "Processing Record 51 of Set 1 | nikolskoye\n",
      "Processing Record 52 of Set 1 | hami\n",
      "Processing Record 53 of Set 1 | barrow\n",
      "Processing Record 54 of Set 1 | abu samrah\n",
      "Processing Record 55 of Set 1 | labuhan\n",
      "Processing Record 56 of Set 1 | hirara\n",
      "Processing Record 57 of Set 1 | rikitea\n",
      "Processing Record 58 of Set 1 | eston\n",
      "Processing Record 59 of Set 1 | hamilton\n",
      "Processing Record 60 of Set 1 | takoradi\n",
      "Processing Record 1 of Set 2 | horsham\n",
      "Processing Record 2 of Set 2 | nieuwpoort\n",
      "Processing Record 3 of Set 2 | ransang\n",
      "Processing Record 4 of Set 2 | avarua\n",
      "Processing Record 5 of Set 2 | severo-kurilsk\n",
      "Processing Record 6 of Set 2 | tasiilaq\n",
      "Processing Record 7 of Set 2 | chiredzi\n",
      "Processing Record 8 of Set 2 | faanui\n",
      "City not found (dmitriyev-lgovskiy).  Skipping...\n",
      "Processing Record 10 of Set 2 | lasem\n",
      "Processing Record 11 of Set 2 | olinda\n",
      "Processing Record 12 of Set 2 | deputatskiy\n",
      "Processing Record 13 of Set 2 | ahipara\n",
      "Processing Record 14 of Set 2 | ibiruba\n",
      "Processing Record 15 of Set 2 | constantine\n",
      "City not found (grand centre).  Skipping...\n",
      "Processing Record 17 of Set 2 | qaanaaq\n",
      "Processing Record 18 of Set 2 | blairmore\n",
      "Processing Record 19 of Set 2 | kahului\n",
      "Processing Record 20 of Set 2 | fernie\n",
      "Processing Record 21 of Set 2 | arraial do cabo\n",
      "Processing Record 22 of Set 2 | kagadi\n",
      "Processing Record 23 of Set 2 | sorland\n",
      "Processing Record 24 of Set 2 | port elizabeth\n",
      "City not found (sorvag).  Skipping...\n",
      "Processing Record 26 of Set 2 | hithadhoo\n",
      "Processing Record 27 of Set 2 | new norfolk\n",
      "Processing Record 28 of Set 2 | grindavik\n",
      "Processing Record 29 of Set 2 | belem de sao francisco\n",
      "Processing Record 30 of Set 2 | warrnambool\n",
      "Processing Record 31 of Set 2 | bengkulu\n",
      "Processing Record 32 of Set 2 | hermanus\n",
      "Processing Record 33 of Set 2 | vila franca do campo\n",
      "Processing Record 34 of Set 2 | kapaa\n",
      "City not found (burica).  Skipping...\n",
      "Processing Record 36 of Set 2 | saurimo\n",
      "Processing Record 37 of Set 2 | sagua la grande\n",
      "Processing Record 38 of Set 2 | charters towers\n",
      "Processing Record 39 of Set 2 | busselton\n",
      "Processing Record 40 of Set 2 | haines junction\n",
      "Processing Record 41 of Set 2 | pacific grove\n",
      "Processing Record 42 of Set 2 | chute-aux-outardes\n",
      "Processing Record 43 of Set 2 | vardo\n",
      "Processing Record 44 of Set 2 | constitucion\n",
      "Processing Record 45 of Set 2 | yellowknife\n",
      "City not found (taolanaro).  Skipping...\n",
      "Processing Record 47 of Set 2 | namatanai\n",
      "Processing Record 48 of Set 2 | eureka\n",
      "Processing Record 49 of Set 2 | rio gallegos\n",
      "City not found (chagda).  Skipping...\n",
      "Processing Record 51 of Set 2 | ca mau\n",
      "City not found (nizhneyansk).  Skipping...\n",
      "Processing Record 53 of Set 2 | saint george\n",
      "Processing Record 54 of Set 2 | havoysund\n",
      "Processing Record 55 of Set 2 | caruray\n",
      "City not found (sinkat).  Skipping...\n",
      "Processing Record 57 of Set 2 | dosso\n",
      "Processing Record 58 of Set 2 | broome\n",
      "Processing Record 59 of Set 2 | bluff\n",
      "Processing Record 60 of Set 2 | puerto ayora\n",
      "Processing Record 1 of Set 3 | yining\n",
      "Processing Record 2 of Set 3 | alofi\n",
      "Processing Record 3 of Set 3 | makinsk\n",
      "Processing Record 4 of Set 3 | thompson\n",
      "Processing Record 5 of Set 3 | tuatapere\n",
      "Processing Record 6 of Set 3 | sueyoshi\n",
      "Processing Record 7 of Set 3 | borazjan\n",
      "Processing Record 8 of Set 3 | ponta delgada\n",
      "Processing Record 9 of Set 3 | khatanga\n",
      "Processing Record 10 of Set 3 | hambantota\n",
      "City not found (tillabery).  Skipping...\n",
      "Processing Record 12 of Set 3 | geraldton\n",
      "Processing Record 13 of Set 3 | kushima\n",
      "Processing Record 14 of Set 3 | panaba\n",
      "Processing Record 15 of Set 3 | castro\n",
      "Processing Record 16 of Set 3 | quatre cocos\n",
      "Processing Record 17 of Set 3 | vaini\n",
      "Processing Record 18 of Set 3 | qostanay\n",
      "Processing Record 19 of Set 3 | nortelandia\n",
      "Processing Record 20 of Set 3 | jacareacanga\n",
      "Processing Record 21 of Set 3 | san quintin\n",
      "City not found (tsihombe).  Skipping...\n",
      "Processing Record 23 of Set 3 | luderitz\n",
      "Processing Record 24 of Set 3 | upernavik\n",
      "Processing Record 25 of Set 3 | iznoski\n",
      "Processing Record 26 of Set 3 | nouadhibou\n",
      "Processing Record 27 of Set 3 | mnogovershinnyy\n",
      "Processing Record 28 of Set 3 | port alfred\n",
      "Processing Record 29 of Set 3 | ewa beach\n",
      "Processing Record 30 of Set 3 | broken hill\n",
      "Processing Record 31 of Set 3 | bredasdorp\n",
      "Processing Record 32 of Set 3 | nanortalik\n",
      "Processing Record 33 of Set 3 | trelew\n",
      "Processing Record 34 of Set 3 | lazaro cardenas\n",
      "Processing Record 35 of Set 3 | aksha\n",
      "Processing Record 36 of Set 3 | san-pedro\n",
      "Processing Record 37 of Set 3 | sao joao dos patos\n",
      "Processing Record 38 of Set 3 | ketchikan\n",
      "Processing Record 39 of Set 3 | kulhudhuffushi\n",
      "Processing Record 40 of Set 3 | guerrero negro\n",
      "Processing Record 41 of Set 3 | sibu\n",
      "City not found (palabuhanratu).  Skipping...\n",
      "Processing Record 43 of Set 3 | san cristobal\n",
      "Processing Record 44 of Set 3 | cabedelo\n",
      "Processing Record 45 of Set 3 | necochea\n",
      "Processing Record 46 of Set 3 | mayumba\n",
      "Processing Record 47 of Set 3 | norman wells\n",
      "Processing Record 48 of Set 3 | codrington\n",
      "Processing Record 49 of Set 3 | castelo branco\n",
      "Processing Record 50 of Set 3 | tuktoyaktuk\n",
      "Processing Record 51 of Set 3 | khasan\n",
      "Processing Record 52 of Set 3 | jizan\n",
      "Processing Record 53 of Set 3 | kashi\n",
      "Processing Record 54 of Set 3 | laguna\n",
      "Processing Record 55 of Set 3 | tiksi\n",
      "Processing Record 56 of Set 3 | anadyr\n",
      "City not found (samusu).  Skipping...\n",
      "Processing Record 58 of Set 3 | marzuq\n",
      "Processing Record 59 of Set 3 | gawler\n",
      "Processing Record 60 of Set 3 | trzebiatow\n",
      "Processing Record 1 of Set 4 | ambon\n",
      "Processing Record 2 of Set 4 | yeppoon\n",
      "City not found (vaitupu).  Skipping...\n",
      "Processing Record 4 of Set 4 | fortuna\n",
      "Processing Record 5 of Set 4 | chuy\n",
      "Processing Record 6 of Set 4 | praya\n",
      "Processing Record 7 of Set 4 | naze\n",
      "Processing Record 8 of Set 4 | sitka\n",
      "Processing Record 9 of Set 4 | tobol\n",
      "City not found (umzimvubu).  Skipping...\n",
      "Processing Record 11 of Set 4 | oktyabrskoye\n",
      "Processing Record 12 of Set 4 | kaitangata\n",
      "Processing Record 13 of Set 4 | bull savanna\n",
      "Processing Record 14 of Set 4 | keetmanshoop\n",
      "Processing Record 15 of Set 4 | lasa\n",
      "Processing Record 16 of Set 4 | ordynskoye\n"
     ]
    },
    {
     "name": "stdout",
     "output_type": "stream",
     "text": [
      "Processing Record 17 of Set 4 | hilo\n",
      "Processing Record 18 of Set 4 | fort frances\n",
      "Processing Record 19 of Set 4 | iquique\n",
      "Processing Record 20 of Set 4 | akhtubinsk\n",
      "City not found (tubruq).  Skipping...\n",
      "Processing Record 22 of Set 4 | cody\n",
      "Processing Record 23 of Set 4 | ati\n",
      "Processing Record 24 of Set 4 | fairbanks\n",
      "Processing Record 25 of Set 4 | hays\n",
      "Processing Record 26 of Set 4 | souillac\n",
      "Processing Record 27 of Set 4 | codajas\n",
      "Processing Record 28 of Set 4 | college\n",
      "Processing Record 29 of Set 4 | hornepayne\n",
      "Processing Record 30 of Set 4 | lokosovo\n",
      "Processing Record 31 of Set 4 | zhangzhou\n",
      "Processing Record 32 of Set 4 | krutikha\n",
      "Processing Record 33 of Set 4 | khash\n",
      "City not found (grand river south east).  Skipping...\n",
      "Processing Record 35 of Set 4 | kurikka\n",
      "Processing Record 36 of Set 4 | mehamn\n",
      "Processing Record 37 of Set 4 | pimentel\n",
      "Processing Record 38 of Set 4 | zyryanka\n",
      "Processing Record 39 of Set 4 | niles\n",
      "Processing Record 40 of Set 4 | marsabit\n",
      "Processing Record 41 of Set 4 | kokkola\n",
      "Processing Record 42 of Set 4 | tabou\n",
      "Processing Record 43 of Set 4 | cradock\n",
      "Processing Record 44 of Set 4 | suncuius\n",
      "Processing Record 45 of Set 4 | vetluzhskiy\n",
      "Processing Record 46 of Set 4 | kumo\n",
      "Processing Record 47 of Set 4 | san martin\n",
      "Processing Record 48 of Set 4 | khilok\n",
      "Processing Record 49 of Set 4 | general roca\n",
      "Processing Record 50 of Set 4 | klaksvik\n",
      "Processing Record 51 of Set 4 | bethel\n",
      "Processing Record 52 of Set 4 | tahe\n",
      "Processing Record 53 of Set 4 | saldanha\n",
      "City not found (sumbawa).  Skipping...\n",
      "Processing Record 55 of Set 4 | mahebourg\n",
      "Processing Record 56 of Set 4 | cabo san lucas\n",
      "Processing Record 57 of Set 4 | roma\n",
      "Processing Record 58 of Set 4 | asau\n",
      "Processing Record 59 of Set 4 | pskov\n",
      "Processing Record 60 of Set 4 | ozernovskiy\n",
      "Processing Record 1 of Set 5 | micheweni\n",
      "Processing Record 2 of Set 5 | kroya\n",
      "Processing Record 3 of Set 5 | sao joao da barra\n",
      "Processing Record 4 of Set 5 | zhigansk\n",
      "Processing Record 5 of Set 5 | walvis bay\n",
      "Processing Record 6 of Set 5 | grand-lahou\n",
      "Processing Record 7 of Set 5 | mount gambier\n",
      "Processing Record 8 of Set 5 | isla mujeres\n",
      "Processing Record 9 of Set 5 | cockburn town\n",
      "Processing Record 10 of Set 5 | bandarbeyla\n",
      "Processing Record 11 of Set 5 | lebu\n",
      "Processing Record 12 of Set 5 | juneau\n",
      "Processing Record 13 of Set 5 | aloleng\n",
      "Processing Record 14 of Set 5 | qaqortoq\n",
      "Processing Record 15 of Set 5 | leningradskiy\n",
      "Processing Record 16 of Set 5 | longyearbyen\n",
      "Processing Record 17 of Set 5 | grieskirchen\n",
      "City not found (tumannyy).  Skipping...\n",
      "Processing Record 19 of Set 5 | wendo\n",
      "Processing Record 20 of Set 5 | okato\n",
      "City not found (attawapiskat).  Skipping...\n",
      "Processing Record 22 of Set 5 | rabo de peixe\n",
      "Processing Record 23 of Set 5 | keflavik\n",
      "Processing Record 24 of Set 5 | birao\n",
      "Processing Record 25 of Set 5 | vysokogornyy\n",
      "Processing Record 26 of Set 5 | waddan\n",
      "City not found (tawkar).  Skipping...\n",
      "Processing Record 28 of Set 5 | beneditinos\n",
      "Processing Record 29 of Set 5 | erzin\n",
      "Processing Record 30 of Set 5 | saint-philippe\n",
      "Processing Record 31 of Set 5 | saskylakh\n",
      "City not found (tabiauea).  Skipping...\n",
      "Processing Record 33 of Set 5 | roald\n",
      "Processing Record 34 of Set 5 | tomatlan\n",
      "Processing Record 35 of Set 5 | severo-yeniseyskiy\n",
      "Processing Record 36 of Set 5 | tiznit\n",
      "Processing Record 37 of Set 5 | bulembu\n",
      "Processing Record 38 of Set 5 | matara\n",
      "Processing Record 39 of Set 5 | natchitoches\n",
      "Processing Record 40 of Set 5 | bilibino\n",
      "Processing Record 41 of Set 5 | bubaque\n",
      "Processing Record 42 of Set 5 | rawson\n",
      "Processing Record 43 of Set 5 | crofton\n",
      "Processing Record 44 of Set 5 | chokurdakh\n",
      "Processing Record 45 of Set 5 | de-kastri\n",
      "Processing Record 46 of Set 5 | massakory\n",
      "Processing Record 47 of Set 5 | muisne\n",
      "Processing Record 48 of Set 5 | lorengau\n",
      "Processing Record 49 of Set 5 | edd\n",
      "Processing Record 50 of Set 5 | clyde river\n",
      "Processing Record 51 of Set 5 | aksu\n",
      "City not found (lolua).  Skipping...\n",
      "Processing Record 53 of Set 5 | udimskiy\n",
      "Processing Record 54 of Set 5 | carnarvon\n",
      "Processing Record 55 of Set 5 | lompoc\n",
      "Processing Record 56 of Set 5 | dover\n",
      "Processing Record 57 of Set 5 | halifax\n",
      "Processing Record 58 of Set 5 | vestmanna\n",
      "Processing Record 59 of Set 5 | falun\n",
      "Processing Record 60 of Set 5 | kitimat\n",
      "Processing Record 1 of Set 6 | avera\n",
      "Processing Record 2 of Set 6 | tres arroyos\n",
      "Processing Record 3 of Set 6 | pafos\n",
      "Processing Record 4 of Set 6 | linhares\n",
      "Processing Record 5 of Set 6 | chekhov\n",
      "Processing Record 6 of Set 6 | poum\n",
      "Processing Record 7 of Set 6 | bukama\n",
      "Processing Record 8 of Set 6 | chiang rai\n",
      "Processing Record 9 of Set 6 | baykit\n",
      "Processing Record 10 of Set 6 | beringovskiy\n",
      "Processing Record 11 of Set 6 | faya\n",
      "Processing Record 12 of Set 6 | auki\n",
      "Processing Record 13 of Set 6 | kieta\n",
      "Processing Record 14 of Set 6 | seymchan\n",
      "Processing Record 15 of Set 6 | gravelbourg\n",
      "City not found (fevralsk).  Skipping...\n",
      "Processing Record 17 of Set 6 | cherskiy\n",
      "Processing Record 18 of Set 6 | kimbe\n",
      "City not found (cagayan de tawi-tawi).  Skipping...\n",
      "Processing Record 20 of Set 6 | flin flon\n",
      "Processing Record 21 of Set 6 | hobe sound\n",
      "Processing Record 22 of Set 6 | esperance\n",
      "Processing Record 23 of Set 6 | batemans bay\n",
      "Processing Record 24 of Set 6 | sandpoint\n",
      "Processing Record 25 of Set 6 | praia\n",
      "Processing Record 26 of Set 6 | muzhi\n",
      "Processing Record 27 of Set 6 | killybegs\n",
      "Processing Record 28 of Set 6 | coquimbo\n",
      "Processing Record 29 of Set 6 | tabuk\n",
      "Processing Record 30 of Set 6 | verkhnyaya inta\n",
      "Processing Record 31 of Set 6 | bulgan\n",
      "Processing Record 32 of Set 6 | chernyakhovsk\n",
      "Processing Record 33 of Set 6 | vostok\n",
      "Processing Record 34 of Set 6 | westport\n",
      "Processing Record 35 of Set 6 | gold coast\n",
      "Processing Record 36 of Set 6 | bereznik\n",
      "City not found (rawannawi).  Skipping...\n",
      "City not found (shchuchye).  Skipping...\n",
      "Processing Record 39 of Set 6 | pevek\n",
      "Processing Record 40 of Set 6 | kamaishi\n",
      "Processing Record 41 of Set 6 | borogontsy\n",
      "Processing Record 42 of Set 6 | phek\n",
      "Processing Record 43 of Set 6 | mahibadhoo\n",
      "Processing Record 44 of Set 6 | labytnangi\n",
      "City not found (louisbourg).  Skipping...\n",
      "Processing Record 46 of Set 6 | llanes\n",
      "Processing Record 47 of Set 6 | conde\n",
      "Processing Record 48 of Set 6 | luorong\n",
      "Processing Record 49 of Set 6 | kutum\n",
      "Processing Record 50 of Set 6 | gravdal\n",
      "Processing Record 51 of Set 6 | katsuura\n",
      "Processing Record 52 of Set 6 | tura\n",
      "Processing Record 53 of Set 6 | springville\n",
      "City not found (mouzakion).  Skipping...\n",
      "Processing Record 55 of Set 6 | henties bay\n",
      "Processing Record 56 of Set 6 | pitimbu\n",
      "Processing Record 57 of Set 6 | nisia floresta\n",
      "Processing Record 58 of Set 6 | bathsheba\n",
      "Processing Record 59 of Set 6 | kunashak\n",
      "Processing Record 60 of Set 6 | clarence town\n",
      "Processing Record 1 of Set 7 | cidreira\n",
      "Processing Record 2 of Set 7 | la ronge\n",
      "Processing Record 3 of Set 7 | petrovsk\n",
      "Processing Record 4 of Set 7 | los llanos de aridane\n",
      "Processing Record 5 of Set 7 | doha\n",
      "Processing Record 6 of Set 7 | comodoro rivadavia\n",
      "Processing Record 7 of Set 7 | portland\n",
      "Processing Record 8 of Set 7 | chaihe\n",
      "Processing Record 9 of Set 7 | kuhdasht\n",
      "Processing Record 10 of Set 7 | tygda\n",
      "Processing Record 11 of Set 7 | okhotsk\n",
      "Processing Record 12 of Set 7 | wenling\n",
      "Processing Record 13 of Set 7 | kavieng\n",
      "Processing Record 14 of Set 7 | saint-francois\n",
      "Processing Record 15 of Set 7 | solnechnyy\n",
      "Processing Record 16 of Set 7 | vilcun\n",
      "Processing Record 17 of Set 7 | namibe\n",
      "Processing Record 18 of Set 7 | vaitape\n",
      "Processing Record 19 of Set 7 | soto la marina\n",
      "Processing Record 20 of Set 7 | airai\n",
      "Processing Record 21 of Set 7 | mazamari\n",
      "Processing Record 22 of Set 7 | port lincoln\n",
      "Processing Record 23 of Set 7 | nhulunbuy\n",
      "City not found (sidi bu zayd).  Skipping...\n",
      "Processing Record 25 of Set 7 | finnsnes\n",
      "Processing Record 26 of Set 7 | nobres\n",
      "Processing Record 27 of Set 7 | bokoro\n",
      "City not found (skagastrond).  Skipping...\n",
      "Processing Record 29 of Set 7 | isiro\n",
      "Processing Record 30 of Set 7 | velsk\n",
      "Processing Record 31 of Set 7 | nampula\n",
      "Processing Record 32 of Set 7 | marovoay\n",
      "Processing Record 33 of Set 7 | inuvik\n",
      "Processing Record 34 of Set 7 | vila velha\n",
      "Processing Record 35 of Set 7 | zhuhai\n",
      "Processing Record 36 of Set 7 | lata\n"
     ]
    },
    {
     "name": "stdout",
     "output_type": "stream",
     "text": [
      "Processing Record 37 of Set 7 | manggar\n",
      "Processing Record 38 of Set 7 | tessalit\n",
      "City not found (ust-kamchatsk).  Skipping...\n",
      "Processing Record 40 of Set 7 | ariquemes\n",
      "Processing Record 41 of Set 7 | vallenar\n",
      "City not found (aflu).  Skipping...\n",
      "Processing Record 43 of Set 7 | santa cruz\n",
      "Processing Record 44 of Set 7 | palmer\n",
      "Processing Record 45 of Set 7 | imeni vorovskogo\n",
      "Processing Record 46 of Set 7 | taylor\n",
      "Processing Record 47 of Set 7 | conceicao da barra\n",
      "Processing Record 48 of Set 7 | petropavlovsk-kamchatskiy\n",
      "Processing Record 49 of Set 7 | tadine\n",
      "Processing Record 50 of Set 7 | morgan city\n",
      "Processing Record 51 of Set 7 | le vauclin\n",
      "Processing Record 52 of Set 7 | nosy varika\n",
      "Processing Record 53 of Set 7 | bacolod\n",
      "City not found (toliary).  Skipping...\n",
      "Processing Record 55 of Set 7 | fuerte olimpo\n",
      "City not found (saryshagan).  Skipping...\n",
      "Processing Record 57 of Set 7 | sioux lookout\n",
      "Processing Record 58 of Set 7 | sol-iletsk\n",
      "Processing Record 59 of Set 7 | gobabis\n",
      "Processing Record 60 of Set 7 | carrickfergus\n",
      "Processing Record 1 of Set 8 | hay river\n",
      "Processing Record 2 of Set 8 | alice springs\n",
      "Processing Record 3 of Set 8 | seddon\n",
      "Processing Record 4 of Set 8 | bela\n",
      "Processing Record 5 of Set 8 | minyar\n",
      "Processing Record 6 of Set 8 | wukari\n",
      "Processing Record 7 of Set 8 | glamoc\n",
      "Processing Record 8 of Set 8 | stowe\n",
      "Processing Record 9 of Set 8 | port hardy\n",
      "Processing Record 10 of Set 8 | namie\n",
      "Processing Record 11 of Set 8 | santa cruz cabralia\n",
      "Processing Record 12 of Set 8 | iskateley\n",
      "Processing Record 13 of Set 8 | san patricio\n",
      "Processing Record 14 of Set 8 | sao filipe\n",
      "Processing Record 15 of Set 8 | marienburg\n",
      "Processing Record 16 of Set 8 | marsa matruh\n",
      "Processing Record 17 of Set 8 | omsukchan\n",
      "Processing Record 18 of Set 8 | itarema\n",
      "Processing Record 19 of Set 8 | kandila\n",
      "Processing Record 20 of Set 8 | thai binh\n",
      "City not found (amderma).  Skipping...\n",
      "City not found (mentok).  Skipping...\n",
      "Processing Record 23 of Set 8 | gorontalo\n",
      "Processing Record 24 of Set 8 | novyy urengoy\n",
      "Processing Record 25 of Set 8 | port hedland\n",
      "Processing Record 26 of Set 8 | canto do buriti\n",
      "Processing Record 27 of Set 8 | uzhur\n",
      "Processing Record 28 of Set 8 | coihaique\n",
      "Processing Record 29 of Set 8 | kirensk\n",
      "Processing Record 30 of Set 8 | duldurga\n",
      "Processing Record 31 of Set 8 | carutapera\n",
      "City not found (andselv).  Skipping...\n",
      "Processing Record 33 of Set 8 | konokovo\n",
      "Processing Record 34 of Set 8 | severnoye\n",
      "Processing Record 35 of Set 8 | tiangua\n",
      "Processing Record 36 of Set 8 | varzea alegre\n",
      "City not found (blonduos).  Skipping...\n",
      "Processing Record 38 of Set 8 | oksfjord\n",
      "Processing Record 39 of Set 8 | tula\n",
      "Processing Record 40 of Set 8 | isangel\n",
      "Processing Record 41 of Set 8 | porto santo\n",
      "Processing Record 42 of Set 8 | kodinsk\n",
      "Processing Record 43 of Set 8 | saint-augustin\n",
      "Processing Record 44 of Set 8 | senneterre\n",
      "Processing Record 45 of Set 8 | nouakchott\n",
      "Processing Record 46 of Set 8 | bagdarin\n",
      "Processing Record 47 of Set 8 | nakskov\n",
      "Processing Record 48 of Set 8 | makakilo city\n",
      "Processing Record 49 of Set 8 | niamey\n",
      "Processing Record 50 of Set 8 | comrat\n",
      "Processing Record 51 of Set 8 | smithers\n",
      "Processing Record 52 of Set 8 | egvekinot\n",
      "Processing Record 53 of Set 8 | oskemen\n",
      "Processing Record 54 of Set 8 | alakurtti\n",
      "Processing Record 55 of Set 8 | salalah\n",
      "Processing Record 56 of Set 8 | ancud\n",
      "Processing Record 57 of Set 8 | vao\n",
      "Processing Record 58 of Set 8 | coro\n",
      "Processing Record 59 of Set 8 | tiarei\n",
      "Processing Record 60 of Set 8 | lindon\n",
      "Processing Record 1 of Set 9 | aklavik\n",
      "Processing Record 2 of Set 9 | shumyachi\n",
      "Processing Record 3 of Set 9 | carballo\n",
      "Processing Record 4 of Set 9 | lensk\n",
      "Processing Record 5 of Set 9 | zelenoborskiy\n",
      "Processing Record 6 of Set 9 | chunoyar\n",
      "Processing Record 7 of Set 9 | wajir\n",
      "Processing Record 8 of Set 9 | mantua\n",
      "Processing Record 9 of Set 9 | puerto carreno\n",
      "Processing Record 10 of Set 9 | skjervoy\n",
      "Processing Record 11 of Set 9 | beyneu\n",
      "Processing Record 12 of Set 9 | thinadhoo\n",
      "Processing Record 13 of Set 9 | srandakan\n",
      "Processing Record 14 of Set 9 | new bedford\n",
      "Processing Record 15 of Set 9 | kerewan\n",
      "Processing Record 16 of Set 9 | kokopo\n",
      "Processing Record 17 of Set 9 | arlit\n",
      "Processing Record 18 of Set 9 | beloha\n",
      "Processing Record 19 of Set 9 | khairpur nathan shah\n",
      "Processing Record 20 of Set 9 | pittsburg\n",
      "Processing Record 21 of Set 9 | lukiv\n",
      "Processing Record 22 of Set 9 | san francisco\n",
      "Processing Record 23 of Set 9 | samarai\n",
      "City not found (tarudant).  Skipping...\n",
      "Processing Record 25 of Set 9 | qasigiannguit\n",
      "Processing Record 26 of Set 9 | port macquarie\n",
      "Processing Record 27 of Set 9 | venado tuerto\n",
      "Processing Record 28 of Set 9 | owando\n",
      "Processing Record 29 of Set 9 | aguie\n",
      "Processing Record 30 of Set 9 | macae\n",
      "Processing Record 31 of Set 9 | vila\n",
      "Processing Record 32 of Set 9 | lufilufi\n",
      "Processing Record 33 of Set 9 | aksarka\n",
      "Processing Record 34 of Set 9 | bac lieu\n",
      "Processing Record 35 of Set 9 | pacocha\n",
      "Processing Record 36 of Set 9 | richards bay\n",
      "Processing Record 37 of Set 9 | kudahuvadhoo\n",
      "Processing Record 38 of Set 9 | narrabri\n",
      "Processing Record 39 of Set 9 | nemuro\n",
      "Processing Record 40 of Set 9 | kruisfontein\n",
      "Processing Record 41 of Set 9 | tyrma\n",
      "Processing Record 42 of Set 9 | siderno\n",
      "Processing Record 43 of Set 9 | gunjur\n",
      "Processing Record 44 of Set 9 | araouane\n",
      "Processing Record 45 of Set 9 | sretensk\n",
      "Processing Record 46 of Set 9 | gauribidanur\n",
      "Processing Record 47 of Set 9 | baoding\n",
      "Processing Record 48 of Set 9 | mayo\n",
      "Processing Record 49 of Set 9 | de aar\n",
      "Processing Record 50 of Set 9 | wanaka\n",
      "Processing Record 51 of Set 9 | cabra\n",
      "Processing Record 52 of Set 9 | teya\n",
      "Processing Record 53 of Set 9 | margate\n",
      "Processing Record 54 of Set 9 | outlook\n",
      "City not found (kegayli).  Skipping...\n",
      "Processing Record 56 of Set 9 | tonj\n",
      "Processing Record 57 of Set 9 | pangnirtung\n",
      "Processing Record 58 of Set 9 | markova\n",
      "Processing Record 59 of Set 9 | tutoia\n",
      "Processing Record 60 of Set 9 | nova olinda do norte\n",
      "Processing Record 1 of Set 10 | ahome\n",
      "Processing Record 2 of Set 10 | tarakan\n",
      "Processing Record 3 of Set 10 | cape coast\n",
      "Processing Record 4 of Set 10 | atbasar\n",
      "Processing Record 5 of Set 10 | pingzhuang\n",
      "Processing Record 6 of Set 10 | fokino\n",
      "Processing Record 7 of Set 10 | launceston\n",
      "Processing Record 8 of Set 10 | moose jaw\n",
      "Processing Record 9 of Set 10 | yerbogachen\n",
      "Processing Record 10 of Set 10 | san luis\n",
      "Processing Record 11 of Set 10 | puerto leguizamo\n",
      "Processing Record 12 of Set 10 | herrin\n",
      "Processing Record 13 of Set 10 | sobolevo\n",
      "Processing Record 14 of Set 10 | babstovo\n",
      "Processing Record 15 of Set 10 | khandyga\n",
      "Processing Record 16 of Set 10 | ormara\n",
      "Processing Record 17 of Set 10 | esil\n",
      "Processing Record 18 of Set 10 | praxedis guerrero\n",
      "City not found (zhanatas).  Skipping...\n",
      "Processing Record 20 of Set 10 | yuryev-polskiy\n",
      "Processing Record 21 of Set 10 | sarankhola\n",
      "Processing Record 22 of Set 10 | jiangyou\n",
      "Processing Record 23 of Set 10 | krasnoselkup\n",
      "Processing Record 24 of Set 10 | liverpool\n",
      "City not found (barawe).  Skipping...\n",
      "Processing Record 26 of Set 10 | barcelos\n",
      "Processing Record 27 of Set 10 | albert town\n",
      "Processing Record 28 of Set 10 | ler\n",
      "Processing Record 29 of Set 10 | singaparna\n",
      "Processing Record 30 of Set 10 | suez\n",
      "Processing Record 31 of Set 10 | pano aqil\n",
      "Processing Record 32 of Set 10 | chapais\n",
      "Processing Record 33 of Set 10 | sola\n",
      "Processing Record 34 of Set 10 | alihe\n",
      "Processing Record 35 of Set 10 | ingham\n",
      "Processing Record 36 of Set 10 | ilulissat\n",
      "Processing Record 37 of Set 10 | pisco\n",
      "Processing Record 38 of Set 10 | merrill\n",
      "Processing Record 39 of Set 10 | mishan\n",
      "Processing Record 40 of Set 10 | tahoua\n",
      "Processing Record 41 of Set 10 | tamworth\n",
      "Processing Record 42 of Set 10 | kigoma\n",
      "Processing Record 43 of Set 10 | luganville\n",
      "Processing Record 44 of Set 10 | atar\n",
      "Processing Record 45 of Set 10 | itoman\n",
      "Processing Record 46 of Set 10 | karaton\n",
      "Processing Record 47 of Set 10 | kenai\n",
      "Processing Record 48 of Set 10 | belmonte\n",
      "Processing Record 49 of Set 10 | paamiut\n",
      "Processing Record 50 of Set 10 | feijo\n",
      "Processing Record 51 of Set 10 | monte alegre\n",
      "Processing Record 52 of Set 10 | semey\n",
      "Processing Record 53 of Set 10 | orange cove\n",
      "Processing Record 54 of Set 10 | turtas\n"
     ]
    },
    {
     "name": "stdout",
     "output_type": "stream",
     "text": [
      "Processing Record 55 of Set 10 | mwense\n",
      "Processing Record 56 of Set 10 | sao gabriel da cachoeira\n",
      "Processing Record 57 of Set 10 | kita\n",
      "Processing Record 58 of Set 10 | ust-tsilma\n",
      "Processing Record 59 of Set 10 | nieuw amsterdam\n",
      "City not found (sentyabrskiy).  Skipping...\n",
      "Processing Record 1 of Set 11 | palm coast\n",
      "Processing Record 2 of Set 11 | xining\n",
      "Processing Record 3 of Set 11 | teguise\n",
      "Processing Record 4 of Set 11 | ponta do sol\n",
      "Processing Record 5 of Set 11 | lukow\n",
      "Processing Record 6 of Set 11 | arraias\n",
      "Processing Record 7 of Set 11 | bisho\n",
      "Processing Record 8 of Set 11 | ures\n",
      "Processing Record 9 of Set 11 | ostrovnoy\n",
      "Processing Record 10 of Set 11 | yar-sale\n",
      "Processing Record 11 of Set 11 | husavik\n",
      "Processing Record 12 of Set 11 | muroto\n",
      "Processing Record 13 of Set 11 | kamenka\n",
      "Processing Record 14 of Set 11 | fort nelson\n",
      "Processing Record 15 of Set 11 | tsirguliina\n",
      "Processing Record 16 of Set 11 | athmallik\n",
      "Processing Record 17 of Set 11 | kavaratti\n",
      "Processing Record 18 of Set 11 | wanning\n",
      "Processing Record 19 of Set 11 | prince george\n",
      "Processing Record 20 of Set 11 | ahuimanu\n",
      "Processing Record 21 of Set 11 | svarstad\n",
      "Processing Record 22 of Set 11 | marawi\n"
     ]
    }
   ],
   "source": [
    "# call openweather api for cities\n",
    "api_calls = 0\n",
    "api_limit_calls_minute = 60\n",
    "api_limit_timeperiod_seconds = 60\n",
    "api_seconds_buffer = 5\n",
    "api_set = 1\n",
    "base_url = \"https://api.openweathermap.org/data/2.5/\"\n",
    "end_point = base_url + \"weather\"\n",
    "\n",
    "params = {\n",
    "    \"q\": \"\",\n",
    "    \"units\": \"imperial\",\n",
    "    \"lang\": \"en\",\n",
    "    \"mode\": \"json\",\n",
    "    \"appid\": weather_api_key\n",
    "}\n",
    "\n",
    "settime_start = time.time()\n",
    "settime_cut = settime_start + api_limit_timeperiod_seconds\n",
    "\n",
    "for city in cities:\n",
    "    \n",
    "    # have we exceeded 60 calls\n",
    "    if api_calls >= api_limit_calls_minute:\n",
    "    \n",
    "        # wait for timeperiod to conclude\n",
    "        if settime_cut - time.time() > 0:\n",
    "            time.sleep(int(settime_cut - time.time()) + api_seconds_buffer)\n",
    "                   \n",
    "        # reset counters\n",
    "        api_calls = 0\n",
    "        api_set = api_set + 1\n",
    "        settime_start = time.time()\n",
    "        settime_cut = settime_start + api_limit_timeperiod_seconds\n",
    "                   \n",
    "    # api call\n",
    "    params['q'] = city\n",
    "    response = requests.get(end_point, params=params)\n",
    "    result = response.json()\n",
    "    cod = result[\"cod\"]\n",
    "    \n",
    "    if cod == 200:\n",
    "        lat = result[\"coord\"][\"lat\"]\n",
    "        lon = result[\"coord\"][\"lon\"]\n",
    "        max_temp = result[\"main\"][\"temp_max\"]\n",
    "        humidity = result[\"main\"][\"humidity\"]\n",
    "        cloudiness = result[\"clouds\"][\"all\"]\n",
    "        speed = result[\"wind\"][\"speed\"]\n",
    "        country = result[\"sys\"][\"country\"]\n",
    "        date = result[\"dt\"]\n",
    "    \n",
    "    api_calls = api_calls + 1\n",
    "    \n",
    "    # first call\n",
    "    if api_calls == 1 and api_set == 1:\n",
    "        \n",
    "        # build dataframe\n",
    "        WeatherDF = pd.DataFrame(columns=[\n",
    "            \"City\", \"Lat\", \"Lng\", \"Max Temp\", \"Humidity\", \"Cloudiness\", \"Wind Speed\", \"Country\", \"Date\"])\n",
    "        \n",
    "        # log header \n",
    "        print(f\"Beginning Data Retrieval\")\n",
    "        print(f\"-----------------------------\")\n",
    "        \n",
    "    if cod == 200:\n",
    "        # log city\n",
    "        print(f\"Processing Record {api_calls} of Set {api_set} | {city}\")\n",
    "        \n",
    "        # add city to dataframe\n",
    "        WeatherDF.loc[len(WeatherDF.index)] = [city, lat, lon, max_temp, humidity, cloudiness, speed, country, date] \n",
    "        \n",
    "    elif (cod == '404'):\n",
    "        # city not found\n",
    "        print(f\"City not found ({city}).  Skipping...\")\n",
    "    else:\n",
    "        # unexpected error\n",
    "        print(f\"{result}\")\n",
    "        break"
   ]
  },
  {
   "cell_type": "markdown",
   "metadata": {},
   "source": [
    "### Convert to DataFrame"
   ]
  },
  {
   "cell_type": "code",
   "execution_count": 6,
   "metadata": {},
   "outputs": [],
   "source": [
    "# Export the city data into a csv.\n",
    "WeatherDF.to_csv(output_data_file) "
   ]
  },
  {
   "cell_type": "code",
   "execution_count": 7,
   "metadata": {},
   "outputs": [
    {
     "data": {
      "text/html": [
       "<div>\n",
       "<style scoped>\n",
       "    .dataframe tbody tr th:only-of-type {\n",
       "        vertical-align: middle;\n",
       "    }\n",
       "\n",
       "    .dataframe tbody tr th {\n",
       "        vertical-align: top;\n",
       "    }\n",
       "\n",
       "    .dataframe thead th {\n",
       "        text-align: right;\n",
       "    }\n",
       "</style>\n",
       "<table border=\"1\" class=\"dataframe\">\n",
       "  <thead>\n",
       "    <tr style=\"text-align: right;\">\n",
       "      <th></th>\n",
       "      <th>City</th>\n",
       "      <th>Lat</th>\n",
       "      <th>Lng</th>\n",
       "      <th>Max Temp</th>\n",
       "      <th>Humidity</th>\n",
       "      <th>Cloudiness</th>\n",
       "      <th>Wind Speed</th>\n",
       "      <th>Country</th>\n",
       "      <th>Date</th>\n",
       "    </tr>\n",
       "  </thead>\n",
       "  <tbody>\n",
       "    <tr>\n",
       "      <th>0</th>\n",
       "      <td>ushuaia</td>\n",
       "      <td>-54.8000</td>\n",
       "      <td>-68.3000</td>\n",
       "      <td>31.66</td>\n",
       "      <td>74</td>\n",
       "      <td>20</td>\n",
       "      <td>8.05</td>\n",
       "      <td>AR</td>\n",
       "      <td>1658826655</td>\n",
       "    </tr>\n",
       "    <tr>\n",
       "      <th>1</th>\n",
       "      <td>albany</td>\n",
       "      <td>42.6001</td>\n",
       "      <td>-73.9662</td>\n",
       "      <td>59.52</td>\n",
       "      <td>87</td>\n",
       "      <td>0</td>\n",
       "      <td>4.59</td>\n",
       "      <td>US</td>\n",
       "      <td>1658826655</td>\n",
       "    </tr>\n",
       "    <tr>\n",
       "      <th>2</th>\n",
       "      <td>lagoa</td>\n",
       "      <td>39.0500</td>\n",
       "      <td>-27.9833</td>\n",
       "      <td>73.08</td>\n",
       "      <td>89</td>\n",
       "      <td>1</td>\n",
       "      <td>11.01</td>\n",
       "      <td>PT</td>\n",
       "      <td>1658826656</td>\n",
       "    </tr>\n",
       "    <tr>\n",
       "      <th>3</th>\n",
       "      <td>valleyview</td>\n",
       "      <td>55.0667</td>\n",
       "      <td>-117.2859</td>\n",
       "      <td>54.68</td>\n",
       "      <td>86</td>\n",
       "      <td>24</td>\n",
       "      <td>2.59</td>\n",
       "      <td>CA</td>\n",
       "      <td>1658826656</td>\n",
       "    </tr>\n",
       "    <tr>\n",
       "      <th>4</th>\n",
       "      <td>ixtapa</td>\n",
       "      <td>20.7000</td>\n",
       "      <td>-105.2000</td>\n",
       "      <td>78.22</td>\n",
       "      <td>94</td>\n",
       "      <td>20</td>\n",
       "      <td>0.00</td>\n",
       "      <td>MX</td>\n",
       "      <td>1658826657</td>\n",
       "    </tr>\n",
       "  </tbody>\n",
       "</table>\n",
       "</div>"
      ],
      "text/plain": [
       "         City      Lat       Lng  Max Temp  Humidity  Cloudiness  Wind Speed  \\\n",
       "0     ushuaia -54.8000  -68.3000     31.66        74          20        8.05   \n",
       "1      albany  42.6001  -73.9662     59.52        87           0        4.59   \n",
       "2       lagoa  39.0500  -27.9833     73.08        89           1       11.01   \n",
       "3  valleyview  55.0667 -117.2859     54.68        86          24        2.59   \n",
       "4      ixtapa  20.7000 -105.2000     78.22        94          20        0.00   \n",
       "\n",
       "  Country        Date  \n",
       "0      AR  1658826655  \n",
       "1      US  1658826655  \n",
       "2      PT  1658826656  \n",
       "3      CA  1658826656  \n",
       "4      MX  1658826657  "
      ]
     },
     "execution_count": 7,
     "metadata": {},
     "output_type": "execute_result"
    }
   ],
   "source": [
    "WeatherDF.head()"
   ]
  },
  {
   "cell_type": "code",
   "execution_count": 8,
   "metadata": {},
   "outputs": [
    {
     "data": {
      "text/html": [
       "<div>\n",
       "<style scoped>\n",
       "    .dataframe tbody tr th:only-of-type {\n",
       "        vertical-align: middle;\n",
       "    }\n",
       "\n",
       "    .dataframe tbody tr th {\n",
       "        vertical-align: top;\n",
       "    }\n",
       "\n",
       "    .dataframe thead th {\n",
       "        text-align: right;\n",
       "    }\n",
       "</style>\n",
       "<table border=\"1\" class=\"dataframe\">\n",
       "  <thead>\n",
       "    <tr style=\"text-align: right;\">\n",
       "      <th></th>\n",
       "      <th>Lat</th>\n",
       "      <th>Lng</th>\n",
       "      <th>Max Temp</th>\n",
       "      <th>Humidity</th>\n",
       "      <th>Cloudiness</th>\n",
       "      <th>Wind Speed</th>\n",
       "      <th>Date</th>\n",
       "    </tr>\n",
       "  </thead>\n",
       "  <tbody>\n",
       "    <tr>\n",
       "      <th>count</th>\n",
       "      <td>573.000000</td>\n",
       "      <td>573.000000</td>\n",
       "      <td>573.000000</td>\n",
       "      <td>573.000000</td>\n",
       "      <td>573.000000</td>\n",
       "      <td>573.000000</td>\n",
       "      <td>5.730000e+02</td>\n",
       "    </tr>\n",
       "    <tr>\n",
       "      <th>mean</th>\n",
       "      <td>21.979530</td>\n",
       "      <td>14.242098</td>\n",
       "      <td>70.312984</td>\n",
       "      <td>70.075044</td>\n",
       "      <td>57.757417</td>\n",
       "      <td>7.848569</td>\n",
       "      <td>1.658827e+09</td>\n",
       "    </tr>\n",
       "    <tr>\n",
       "      <th>std</th>\n",
       "      <td>34.111817</td>\n",
       "      <td>91.715263</td>\n",
       "      <td>14.236824</td>\n",
       "      <td>21.766874</td>\n",
       "      <td>38.378390</td>\n",
       "      <td>5.342762</td>\n",
       "      <td>2.083238e+02</td>\n",
       "    </tr>\n",
       "    <tr>\n",
       "      <th>min</th>\n",
       "      <td>-54.800000</td>\n",
       "      <td>-179.166700</td>\n",
       "      <td>17.650000</td>\n",
       "      <td>6.000000</td>\n",
       "      <td>0.000000</td>\n",
       "      <td>0.000000</td>\n",
       "      <td>1.658826e+09</td>\n",
       "    </tr>\n",
       "    <tr>\n",
       "      <th>25%</th>\n",
       "      <td>-6.692200</td>\n",
       "      <td>-65.102300</td>\n",
       "      <td>59.740000</td>\n",
       "      <td>57.000000</td>\n",
       "      <td>20.000000</td>\n",
       "      <td>4.000000</td>\n",
       "      <td>1.658827e+09</td>\n",
       "    </tr>\n",
       "    <tr>\n",
       "      <th>50%</th>\n",
       "      <td>28.017000</td>\n",
       "      <td>18.133300</td>\n",
       "      <td>72.230000</td>\n",
       "      <td>76.000000</td>\n",
       "      <td>73.000000</td>\n",
       "      <td>6.670000</td>\n",
       "      <td>1.658827e+09</td>\n",
       "    </tr>\n",
       "    <tr>\n",
       "      <th>75%</th>\n",
       "      <td>51.466700</td>\n",
       "      <td>94.500000</td>\n",
       "      <td>80.650000</td>\n",
       "      <td>88.000000</td>\n",
       "      <td>98.000000</td>\n",
       "      <td>10.780000</td>\n",
       "      <td>1.658827e+09</td>\n",
       "    </tr>\n",
       "    <tr>\n",
       "      <th>max</th>\n",
       "      <td>78.218600</td>\n",
       "      <td>179.316700</td>\n",
       "      <td>113.310000</td>\n",
       "      <td>100.000000</td>\n",
       "      <td>100.000000</td>\n",
       "      <td>32.210000</td>\n",
       "      <td>1.658827e+09</td>\n",
       "    </tr>\n",
       "  </tbody>\n",
       "</table>\n",
       "</div>"
      ],
      "text/plain": [
       "              Lat         Lng    Max Temp    Humidity  Cloudiness  Wind Speed  \\\n",
       "count  573.000000  573.000000  573.000000  573.000000  573.000000  573.000000   \n",
       "mean    21.979530   14.242098   70.312984   70.075044   57.757417    7.848569   \n",
       "std     34.111817   91.715263   14.236824   21.766874   38.378390    5.342762   \n",
       "min    -54.800000 -179.166700   17.650000    6.000000    0.000000    0.000000   \n",
       "25%     -6.692200  -65.102300   59.740000   57.000000   20.000000    4.000000   \n",
       "50%     28.017000   18.133300   72.230000   76.000000   73.000000    6.670000   \n",
       "75%     51.466700   94.500000   80.650000   88.000000   98.000000   10.780000   \n",
       "max     78.218600  179.316700  113.310000  100.000000  100.000000   32.210000   \n",
       "\n",
       "               Date  \n",
       "count  5.730000e+02  \n",
       "mean   1.658827e+09  \n",
       "std    2.083238e+02  \n",
       "min    1.658826e+09  \n",
       "25%    1.658827e+09  \n",
       "50%    1.658827e+09  \n",
       "75%    1.658827e+09  \n",
       "max    1.658827e+09  "
      ]
     },
     "execution_count": 8,
     "metadata": {},
     "output_type": "execute_result"
    }
   ],
   "source": [
    "WeatherDF.describe()"
   ]
  },
  {
   "cell_type": "markdown",
   "metadata": {},
   "source": [
    "## Inspect the data and remove the cities where the humidity > 100%"
   ]
  },
  {
   "cell_type": "code",
   "execution_count": 9,
   "metadata": {},
   "outputs": [
    {
     "data": {
      "text/html": [
       "<div>\n",
       "<style scoped>\n",
       "    .dataframe tbody tr th:only-of-type {\n",
       "        vertical-align: middle;\n",
       "    }\n",
       "\n",
       "    .dataframe tbody tr th {\n",
       "        vertical-align: top;\n",
       "    }\n",
       "\n",
       "    .dataframe thead th {\n",
       "        text-align: right;\n",
       "    }\n",
       "</style>\n",
       "<table border=\"1\" class=\"dataframe\">\n",
       "  <thead>\n",
       "    <tr style=\"text-align: right;\">\n",
       "      <th></th>\n",
       "      <th>Lat</th>\n",
       "      <th>Lng</th>\n",
       "      <th>Max Temp</th>\n",
       "      <th>Humidity</th>\n",
       "      <th>Cloudiness</th>\n",
       "      <th>Wind Speed</th>\n",
       "      <th>Date</th>\n",
       "    </tr>\n",
       "  </thead>\n",
       "  <tbody>\n",
       "    <tr>\n",
       "      <th>count</th>\n",
       "      <td>573.000000</td>\n",
       "      <td>573.000000</td>\n",
       "      <td>573.000000</td>\n",
       "      <td>573.000000</td>\n",
       "      <td>573.000000</td>\n",
       "      <td>573.000000</td>\n",
       "      <td>5.730000e+02</td>\n",
       "    </tr>\n",
       "    <tr>\n",
       "      <th>mean</th>\n",
       "      <td>21.979530</td>\n",
       "      <td>14.242098</td>\n",
       "      <td>70.312984</td>\n",
       "      <td>70.075044</td>\n",
       "      <td>57.757417</td>\n",
       "      <td>7.848569</td>\n",
       "      <td>1.658827e+09</td>\n",
       "    </tr>\n",
       "    <tr>\n",
       "      <th>std</th>\n",
       "      <td>34.111817</td>\n",
       "      <td>91.715263</td>\n",
       "      <td>14.236824</td>\n",
       "      <td>21.766874</td>\n",
       "      <td>38.378390</td>\n",
       "      <td>5.342762</td>\n",
       "      <td>2.083238e+02</td>\n",
       "    </tr>\n",
       "    <tr>\n",
       "      <th>min</th>\n",
       "      <td>-54.800000</td>\n",
       "      <td>-179.166700</td>\n",
       "      <td>17.650000</td>\n",
       "      <td>6.000000</td>\n",
       "      <td>0.000000</td>\n",
       "      <td>0.000000</td>\n",
       "      <td>1.658826e+09</td>\n",
       "    </tr>\n",
       "    <tr>\n",
       "      <th>25%</th>\n",
       "      <td>-6.692200</td>\n",
       "      <td>-65.102300</td>\n",
       "      <td>59.740000</td>\n",
       "      <td>57.000000</td>\n",
       "      <td>20.000000</td>\n",
       "      <td>4.000000</td>\n",
       "      <td>1.658827e+09</td>\n",
       "    </tr>\n",
       "    <tr>\n",
       "      <th>50%</th>\n",
       "      <td>28.017000</td>\n",
       "      <td>18.133300</td>\n",
       "      <td>72.230000</td>\n",
       "      <td>76.000000</td>\n",
       "      <td>73.000000</td>\n",
       "      <td>6.670000</td>\n",
       "      <td>1.658827e+09</td>\n",
       "    </tr>\n",
       "    <tr>\n",
       "      <th>75%</th>\n",
       "      <td>51.466700</td>\n",
       "      <td>94.500000</td>\n",
       "      <td>80.650000</td>\n",
       "      <td>88.000000</td>\n",
       "      <td>98.000000</td>\n",
       "      <td>10.780000</td>\n",
       "      <td>1.658827e+09</td>\n",
       "    </tr>\n",
       "    <tr>\n",
       "      <th>max</th>\n",
       "      <td>78.218600</td>\n",
       "      <td>179.316700</td>\n",
       "      <td>113.310000</td>\n",
       "      <td>100.000000</td>\n",
       "      <td>100.000000</td>\n",
       "      <td>32.210000</td>\n",
       "      <td>1.658827e+09</td>\n",
       "    </tr>\n",
       "  </tbody>\n",
       "</table>\n",
       "</div>"
      ],
      "text/plain": [
       "              Lat         Lng    Max Temp    Humidity  Cloudiness  Wind Speed  \\\n",
       "count  573.000000  573.000000  573.000000  573.000000  573.000000  573.000000   \n",
       "mean    21.979530   14.242098   70.312984   70.075044   57.757417    7.848569   \n",
       "std     34.111817   91.715263   14.236824   21.766874   38.378390    5.342762   \n",
       "min    -54.800000 -179.166700   17.650000    6.000000    0.000000    0.000000   \n",
       "25%     -6.692200  -65.102300   59.740000   57.000000   20.000000    4.000000   \n",
       "50%     28.017000   18.133300   72.230000   76.000000   73.000000    6.670000   \n",
       "75%     51.466700   94.500000   80.650000   88.000000   98.000000   10.780000   \n",
       "max     78.218600  179.316700  113.310000  100.000000  100.000000   32.210000   \n",
       "\n",
       "               Date  \n",
       "count  5.730000e+02  \n",
       "mean   1.658827e+09  \n",
       "std    2.083238e+02  \n",
       "min    1.658826e+09  \n",
       "25%    1.658827e+09  \n",
       "50%    1.658827e+09  \n",
       "75%    1.658827e+09  \n",
       "max    1.658827e+09  "
      ]
     },
     "execution_count": 9,
     "metadata": {},
     "output_type": "execute_result"
    }
   ],
   "source": [
    "humid_city_count = len(WeatherDF.loc[WeatherDF[\"Humidity\"] > 100])\n",
    "\n",
    "# Skip this step if there are no cities that have humidity > 100%. \n",
    "if humid_city_count > 0:\n",
    "    WeatherDF = WeatherDF.loc[WeatherDF[\"Humidity\"] <= 100]\n",
    "\n",
    "WeatherDF.describe()    "
   ]
  },
  {
   "cell_type": "markdown",
   "metadata": {},
   "source": [
    "## Plotting the Data"
   ]
  },
  {
   "cell_type": "markdown",
   "metadata": {},
   "source": [
    "## Latitude vs. Temperature Plot"
   ]
  },
  {
   "cell_type": "code",
   "execution_count": 10,
   "metadata": {
    "scrolled": true
   },
   "outputs": [
    {
     "data": {
      "image/png": "[encoded data removed]",
      "text/plain": [
       "<Figure size 432x288 with 1 Axes>"
      ]
     },
     "metadata": {
      "needs_background": "light"
     },
     "output_type": "display_data"
    }
   ],
   "source": [
    "plt.scatter(WeatherDF[\"Lat\"], WeatherDF[\"Max Temp\"])\n",
    "plt.title(\"Latitude vs. Max Temperature Plot \" + str(datetime.today().date()))\n",
    "plt.xlabel(\"Latitude\")\n",
    "plt.ylabel(\"Max Temperature\")\n",
    "plt.savefig(output_data_folder + \"latitude_temperature.png\")\n",
    "plt.show()"
   ]
  },
  {
   "cell_type": "markdown",
   "metadata": {},
   "source": [
    "In general, the maximum temperatures of cities is observed increasing as cities approach the equator.  On this date, the inflextion point appears between latitude 20 and 40 where some maximum temperatures measured over 100F."
   ]
  },
  {
   "cell_type": "markdown",
   "metadata": {},
   "source": [
    "## Latitude vs. Humidity Plot"
   ]
  },
  {
   "cell_type": "code",
   "execution_count": 11,
   "metadata": {},
   "outputs": [
    {
     "data": {
      "image/png": "[encoded data removed]",
      "text/plain": [
       "<Figure size 432x288 with 1 Axes>"
      ]
     },
     "metadata": {
      "needs_background": "light"
     },
     "output_type": "display_data"
    }
   ],
   "source": [
    "plt.scatter(WeatherDF[\"Lat\"], WeatherDF[\"Humidity\"])\n",
    "plt.title(\"Latitude vs. Humidity Plot \" + str(datetime.today().date()))\n",
    "plt.xlabel(\"Latitude\")\n",
    "plt.ylabel(\"Humidity\")\n",
    "plt.savefig(output_data_folder + \"latitude_humidity.png\")\n",
    "plt.show()"
   ]
  },
  {
   "cell_type": "markdown",
   "metadata": {},
   "source": [
    "On this date, there does not appear to be an observable relationship between city's latitude and the percentage humidity."
   ]
  },
  {
   "cell_type": "markdown",
   "metadata": {},
   "source": [
    "## Latitude vs. Cloudiness Plot"
   ]
  },
  {
   "cell_type": "code",
   "execution_count": 12,
   "metadata": {},
   "outputs": [
    {
     "data": {
      "image/png": "[encoded data removed]",
      "text/plain": [
       "<Figure size 432x288 with 1 Axes>"
      ]
     },
     "metadata": {
      "needs_background": "light"
     },
     "output_type": "display_data"
    }
   ],
   "source": [
    "plt.scatter(WeatherDF[\"Lat\"], WeatherDF[\"Cloudiness\"])\n",
    "plt.title(\"Latitude vs. Cloudiness Plot \" + str(datetime.today().date()))\n",
    "plt.xlabel(\"Latitude\")\n",
    "plt.ylabel(\"Cloudiness\")\n",
    "plt.savefig(output_data_folder + \"latitude_cloudiness.png\")\n",
    "plt.show()"
   ]
  },
  {
   "cell_type": "markdown",
   "metadata": {},
   "source": [
    "On this date, there does not appear to be an observable relationship between city's latitude and the percentage cloudiness."
   ]
  },
  {
   "cell_type": "markdown",
   "metadata": {},
   "source": [
    "## Latitude vs. Wind Speed Plot"
   ]
  },
  {
   "cell_type": "code",
   "execution_count": 13,
   "metadata": {},
   "outputs": [
    {
     "data": {
      "image/png": "[encoded data removed]",
      "text/plain": [
       "<Figure size 432x288 with 1 Axes>"
      ]
     },
     "metadata": {
      "needs_background": "light"
     },
     "output_type": "display_data"
    }
   ],
   "source": [
    "plt.scatter(WeatherDF[\"Lat\"], WeatherDF[\"Wind Speed\"])\n",
    "plt.title(\"Latitude vs. Wind Speed Plot \" + str(datetime.today().date()))\n",
    "plt.xlabel(\"Latitude\")\n",
    "plt.ylabel(\"Wind Speed\")\n",
    "plt.savefig(output_data_folder + \"latitude_windspeed.png\")\n",
    "plt.show()"
   ]
  },
  {
   "cell_type": "markdown",
   "metadata": {},
   "source": [
    "On this date, there does not appear to be an observable relationship between city's latitude and the maximum wind speed."
   ]
  },
  {
   "cell_type": "markdown",
   "metadata": {},
   "source": [
    "## Linear Regression"
   ]
  },
  {
   "cell_type": "code",
   "execution_count": 14,
   "metadata": {},
   "outputs": [],
   "source": [
    "# northern hemi data\n",
    "HemiNorthDF = WeatherDF.loc[WeatherDF[\"Lat\"] >= 0]"
   ]
  },
  {
   "cell_type": "code",
   "execution_count": 15,
   "metadata": {},
   "outputs": [],
   "source": [
    "# southern hemi data\n",
    "HemiSouthDF = WeatherDF.loc[WeatherDF[\"Lat\"]<= 0]"
   ]
  },
  {
   "cell_type": "markdown",
   "metadata": {},
   "source": [
    "####  Northern Hemisphere - Max Temp vs. Latitude Linear Regression"
   ]
  },
  {
   "cell_type": "code",
   "execution_count": 16,
   "metadata": {},
   "outputs": [
    {
     "data": {
      "image/png": "[encoded data removed]",
      "text/plain": [
       "<Figure size 432x288 with 1 Axes>"
      ]
     },
     "metadata": {
      "needs_background": "light"
     },
     "output_type": "display_data"
    }
   ],
   "source": [
    "plot_title = \"Northern Hemisphere - Max Temp vs. Latitude Linear Regression\\n\" + str(datetime.today().date())\n",
    "x_label = \"Latitude\"\n",
    "y_label = \"Max Temperature\"\n",
    "x_values = HemiNorthDF[\"Lat\"]\n",
    "y_values = HemiNorthDF[\"Max Temp\"]\n",
    "imagefile = \"reg_temperature_latitude_hemi_n.png\"\n",
    "\n",
    "(slope, intercept, rvalue, pvalue, stderr) = linregress(x_values, y_values)\n",
    "regress_values = x_values * slope + intercept\n",
    "line_eq = \"y = \" + str(round(slope,2)) + \"x + \" + str(round(intercept,2))\n",
    "\n",
    "plt.scatter(x_values, y_values)\n",
    "plt.plot(x_values, regress_values, c=\"r\", label=line_eq)\n",
    "plt.title(plot_title)\n",
    "plt.xlabel(x_label)\n",
    "plt.ylabel(y_label)\n",
    "plt.legend(loc='best')\n",
    "plt.savefig(output_data_folder + imagefile)\n",
    "plt.show()"
   ]
  },
  {
   "cell_type": "code",
   "execution_count": 17,
   "metadata": {},
   "outputs": [
    {
     "name": "stdout",
     "output_type": "stream",
     "text": [
      "The correlation between both factors is -0.62\n"
     ]
    }
   ],
   "source": [
    "correlation = st.pearsonr(x_values, y_values)\n",
    "print(f\"The correlation between both factors is {round(correlation[0],2)}\")"
   ]
  },
  {
   "cell_type": "markdown",
   "metadata": {},
   "source": [
    "The plot above shows there is a negative correlation between temperature and latitude in the Northern Hemisphere."
   ]
  },
  {
   "cell_type": "markdown",
   "metadata": {},
   "source": [
    "####  Southern Hemisphere - Max Temp vs. Latitude Linear Regression"
   ]
  },
  {
   "cell_type": "code",
   "execution_count": 18,
   "metadata": {},
   "outputs": [
    {
     "data": {
      "image/png": "[encoded data removed]",
      "text/plain": [
       "<Figure size 432x288 with 1 Axes>"
      ]
     },
     "metadata": {
      "needs_background": "light"
     },
     "output_type": "display_data"
    }
   ],
   "source": [
    "plot_title = \"Southern Hemisphere - Max Temp vs. Latitude Linear Regression\\n\" + str(datetime.today().date())\n",
    "x_label = \"Latitude\"\n",
    "y_label = \"Max Temperature\"\n",
    "x_values = HemiSouthDF[\"Lat\"]\n",
    "y_values = HemiSouthDF[\"Max Temp\"]\n",
    "imagefile = \"reg_temperature_latitude_hemi_s.png\"\n",
    "\n",
    "(slope, intercept, rvalue, pvalue, stderr) = linregress(x_values, y_values)\n",
    "regress_values = x_values * slope + intercept\n",
    "line_eq = \"y = \" + str(round(slope,2)) + \"x + \" + str(round(intercept,2))\n",
    "\n",
    "plt.scatter(x_values, y_values)\n",
    "plt.plot(x_values, regress_values, c=\"r\", label=line_eq)\n",
    "plt.title(plot_title)\n",
    "plt.xlabel(x_label)\n",
    "plt.ylabel(y_label)\n",
    "plt.legend(loc='best')\n",
    "plt.savefig(output_data_folder + imagefile)\n",
    "plt.show()"
   ]
  },
  {
   "cell_type": "code",
   "execution_count": 19,
   "metadata": {},
   "outputs": [
    {
     "name": "stdout",
     "output_type": "stream",
     "text": [
      "The correlation between both factors is 0.82\n"
     ]
    }
   ],
   "source": [
    "correlation = st.pearsonr(x_values, y_values)\n",
    "print(f\"The correlation between both factors is {round(correlation[0],2)}\")"
   ]
  },
  {
   "cell_type": "markdown",
   "metadata": {},
   "source": [
    "The plot above shows there is a positive correlation between temperature and latitude in the Southern Hemisphere."
   ]
  },
  {
   "cell_type": "markdown",
   "metadata": {},
   "source": [
    "####  Northern Hemisphere - Humidity (%) vs. Latitude Linear Regression"
   ]
  },
  {
   "cell_type": "code",
   "execution_count": 20,
   "metadata": {},
   "outputs": [
    {
     "data": {
      "image/png": "[encoded data removed]",
      "text/plain": [
       "<Figure size 432x288 with 1 Axes>"
      ]
     },
     "metadata": {
      "needs_background": "light"
     },
     "output_type": "display_data"
    }
   ],
   "source": [
    "plot_title = \"Northern Hemisphere - Humidity vs. Latitude Linear Regression\\n\" + str(datetime.today().date())\n",
    "x_label = \"Latitude\"\n",
    "y_label = \"Humidity\"\n",
    "x_values = HemiNorthDF[\"Lat\"]\n",
    "y_values = HemiNorthDF[\"Humidity\"]\n",
    "imagefile = \"reg_humidity_latitude_hemi_n.png\"\n",
    "\n",
    "(slope, intercept, rvalue, pvalue, stderr) = linregress(x_values, y_values)\n",
    "regress_values = x_values * slope + intercept\n",
    "line_eq = \"y = \" + str(round(slope,2)) + \"x + \" + str(round(intercept,2))\n",
    "\n",
    "plt.scatter(x_values, y_values)\n",
    "plt.plot(x_values, regress_values, c=\"r\", label=line_eq)\n",
    "plt.title(plot_title)\n",
    "plt.xlabel(x_label)\n",
    "plt.ylabel(y_label)\n",
    "plt.legend(loc='best')\n",
    "plt.savefig(output_data_folder + imagefile)\n",
    "plt.show()"
   ]
  },
  {
   "cell_type": "code",
   "execution_count": 21,
   "metadata": {},
   "outputs": [
    {
     "name": "stdout",
     "output_type": "stream",
     "text": [
      "The correlation between both factors is 0.04\n"
     ]
    }
   ],
   "source": [
    "correlation = st.pearsonr(x_values, y_values)\n",
    "print(f\"The correlation between both factors is {round(correlation[0],2)}\")"
   ]
  },
  {
   "cell_type": "markdown",
   "metadata": {},
   "source": [
    "The plot above shows there is a negligible correlation between humidity and latitude in the Northern Hemisphere."
   ]
  },
  {
   "cell_type": "markdown",
   "metadata": {},
   "source": [
    "####  Southern Hemisphere - Humidity (%) vs. Latitude Linear Regression"
   ]
  },
  {
   "cell_type": "code",
   "execution_count": 22,
   "metadata": {},
   "outputs": [
    {
     "data": {
      "image/png": "[encoded data removed]",
      "text/plain": [
       "<Figure size 432x288 with 1 Axes>"
      ]
     },
     "metadata": {
      "needs_background": "light"
     },
     "output_type": "display_data"
    }
   ],
   "source": [
    "plot_title = \"Southern Hemisphere - Humidity vs. Latitude Linear Regression\\n\" + str(datetime.today().date())\n",
    "x_label = \"Latitude\"\n",
    "y_label = \"Humidity\"\n",
    "x_values = HemiSouthDF[\"Lat\"]\n",
    "y_values = HemiSouthDF[\"Humidity\"]\n",
    "imagefile = \"reg_humidity_latitude_hemi_s.png\"\n",
    "\n",
    "(slope, intercept, rvalue, pvalue, stderr) = linregress(x_values, y_values)\n",
    "regress_values = x_values * slope + intercept\n",
    "line_eq = \"y = \" + str(round(slope,2)) + \"x + \" + str(round(intercept,2))\n",
    "\n",
    "plt.scatter(x_values, y_values)\n",
    "plt.plot(x_values, regress_values, c=\"r\", label=line_eq)\n",
    "plt.title(plot_title)\n",
    "plt.xlabel(x_label)\n",
    "plt.ylabel(y_label)\n",
    "plt.legend(loc='best')\n",
    "plt.savefig(output_data_folder + imagefile)\n",
    "plt.show()"
   ]
  },
  {
   "cell_type": "code",
   "execution_count": 23,
   "metadata": {
    "scrolled": true
   },
   "outputs": [
    {
     "name": "stdout",
     "output_type": "stream",
     "text": [
      "The correlation between both factors is -0.08\n"
     ]
    }
   ],
   "source": [
    "correlation = st.pearsonr(x_values, y_values)\n",
    "print(f\"The correlation between both factors is {round(correlation[0],2)}\")"
   ]
  },
  {
   "cell_type": "markdown",
   "metadata": {},
   "source": [
    "The plot above shows there is a negligible correlation between humidity and latitude in the Southern Hemisphere."
   ]
  },
  {
   "cell_type": "markdown",
   "metadata": {},
   "source": [
    "####  Northern Hemisphere - Cloudiness (%) vs. Latitude Linear Regression"
   ]
  },
  {
   "cell_type": "code",
   "execution_count": 24,
   "metadata": {},
   "outputs": [
    {
     "data": {
      "image/png": "[encoded data removed]",
      "text/plain": [
       "<Figure size 432x288 with 1 Axes>"
      ]
     },
     "metadata": {
      "needs_background": "light"
     },
     "output_type": "display_data"
    }
   ],
   "source": [
    "plot_title = \"Northern Hemisphere - Cloudiness vs. Latitude Linear Regression\\n\" + str(datetime.today().date())\n",
    "x_label = \"Latitude\"\n",
    "y_label = \"Cloudiness\"\n",
    "x_values = HemiNorthDF[\"Lat\"]\n",
    "y_values = HemiNorthDF[\"Cloudiness\"]\n",
    "imagefile = \"reg_cloudiness_latitude_hemi_n.png\"\n",
    "\n",
    "(slope, intercept, rvalue, pvalue, stderr) = linregress(x_values, y_values)\n",
    "regress_values = x_values * slope + intercept\n",
    "line_eq = \"y = \" + str(round(slope,2)) + \"x + \" + str(round(intercept,2))\n",
    "\n",
    "plt.scatter(x_values, y_values)\n",
    "plt.plot(x_values, regress_values, c=\"r\", label=line_eq)\n",
    "plt.title(plot_title)\n",
    "plt.xlabel(x_label)\n",
    "plt.ylabel(y_label)\n",
    "plt.legend(loc='best')\n",
    "plt.savefig(output_data_folder + imagefile)\n",
    "plt.show()"
   ]
  },
  {
   "cell_type": "code",
   "execution_count": 25,
   "metadata": {},
   "outputs": [
    {
     "name": "stdout",
     "output_type": "stream",
     "text": [
      "The correlation between both factors is -0.02\n"
     ]
    }
   ],
   "source": [
    "correlation = st.pearsonr(x_values, y_values)\n",
    "print(f\"The correlation between both factors is {round(correlation[0],2)}\")"
   ]
  },
  {
   "cell_type": "markdown",
   "metadata": {},
   "source": [
    "The plot above shows there is a negligible correlation between cloudiness and latitude in the Northern Hemisphere."
   ]
  },
  {
   "cell_type": "markdown",
   "metadata": {},
   "source": [
    "####  Southern Hemisphere - Cloudiness (%) vs. Latitude Linear Regression"
   ]
  },
  {
   "cell_type": "code",
   "execution_count": 26,
   "metadata": {},
   "outputs": [
    {
     "data": {
      "image/png": "[encoded data removed]",
      "text/plain": [
       "<Figure size 432x288 with 1 Axes>"
      ]
     },
     "metadata": {
      "needs_background": "light"
     },
     "output_type": "display_data"
    }
   ],
   "source": [
    "plot_title = \"Southern Hemisphere - Cloudiness vs. Latitude Linear Regression\\n\" + str(datetime.today().date())\n",
    "x_label = \"Latitude\"\n",
    "y_label = \"Cloudiness\"\n",
    "x_values = HemiSouthDF[\"Lat\"]\n",
    "y_values = HemiSouthDF[\"Cloudiness\"]\n",
    "imagefile = \"reg_cloudiness_latitude_hemi_s.png\"\n",
    "\n",
    "(slope, intercept, rvalue, pvalue, stderr) = linregress(x_values, y_values)\n",
    "regress_values = x_values * slope + intercept\n",
    "line_eq = \"y = \" + str(round(slope,2)) + \"x + \" + str(round(intercept,2))\n",
    "\n",
    "plt.scatter(x_values, y_values)\n",
    "plt.plot(x_values, regress_values, c=\"r\", label=line_eq)\n",
    "plt.title(plot_title)\n",
    "plt.xlabel(x_label)\n",
    "plt.ylabel(y_label)\n",
    "plt.legend(loc='best')\n",
    "plt.savefig(output_data_folder + imagefile)\n",
    "plt.show()"
   ]
  },
  {
   "cell_type": "code",
   "execution_count": 27,
   "metadata": {},
   "outputs": [
    {
     "name": "stdout",
     "output_type": "stream",
     "text": [
      "The correlation between both factors is 0.04\n"
     ]
    }
   ],
   "source": [
    "correlation = st.pearsonr(x_values, y_values)\n",
    "print(f\"The correlation between both factors is {round(correlation[0],2)}\")"
   ]
  },
  {
   "cell_type": "markdown",
   "metadata": {},
   "source": [
    "The plot above shows there is a negligible correlation between cloudiness and latitude in the Southern Hemisphere."
   ]
  },
  {
   "cell_type": "markdown",
   "metadata": {},
   "source": [
    "####  Northern Hemisphere - Wind Speed (mph) vs. Latitude Linear Regression"
   ]
  },
  {
   "cell_type": "code",
   "execution_count": 28,
   "metadata": {},
   "outputs": [
    {
     "data": {
      "image/png": "[encoded data removed]",
      "text/plain": [
       "<Figure size 432x288 with 1 Axes>"
      ]
     },
     "metadata": {
      "needs_background": "light"
     },
     "output_type": "display_data"
    }
   ],
   "source": [
    "plot_title = \"Northern Hemisphere - Wind Speed vs. Latitude Linear Regression\\n\" + str(datetime.today().date())\n",
    "x_label = \"Latitude\"\n",
    "y_label = \"Wind Speed\"\n",
    "x_values = HemiNorthDF[\"Lat\"]\n",
    "y_values = HemiNorthDF[\"Wind Speed\"]\n",
    "imagefile = \"reg_windspeed_latitude_hemi_n.png\"\n",
    "\n",
    "(slope, intercept, rvalue, pvalue, stderr) = linregress(x_values, y_values)\n",
    "regress_values = x_values * slope + intercept\n",
    "line_eq = \"y = \" + str(round(slope,2)) + \"x + \" + str(round(intercept,2))\n",
    "\n",
    "plt.scatter(x_values, y_values)\n",
    "plt.plot(x_values, regress_values, c=\"r\", label=line_eq)\n",
    "plt.title(plot_title)\n",
    "plt.xlabel(x_label)\n",
    "plt.ylabel(y_label)\n",
    "plt.legend(loc='best')\n",
    "plt.savefig(output_data_folder + imagefile)\n",
    "plt.show()"
   ]
  },
  {
   "cell_type": "code",
   "execution_count": 29,
   "metadata": {},
   "outputs": [
    {
     "name": "stdout",
     "output_type": "stream",
     "text": [
      "The correlation between both factors is -0.01\n"
     ]
    }
   ],
   "source": [
    "correlation = st.pearsonr(x_values, y_values)\n",
    "print(f\"The correlation between both factors is {round(correlation[0],2)}\")"
   ]
  },
  {
   "cell_type": "markdown",
   "metadata": {},
   "source": [
    "The plot above shows there is negligible correlation between wind speed and latitude in the Northern Hemisphere."
   ]
  },
  {
   "cell_type": "markdown",
   "metadata": {},
   "source": [
    "####  Southern Hemisphere - Wind Speed (mph) vs. Latitude Linear Regression"
   ]
  },
  {
   "cell_type": "code",
   "execution_count": 30,
   "metadata": {},
   "outputs": [
    {
     "data": {
      "image/png": "[encoded data removed]",
      "text/plain": [
       "<Figure size 432x288 with 1 Axes>"
      ]
     },
     "metadata": {
      "needs_background": "light"
     },
     "output_type": "display_data"
    }
   ],
   "source": [
    "plot_title = \"Southern Hemisphere - Wind Speed vs. Latitude Linear Regression\\n\" + str(datetime.today().date())\n",
    "x_label = \"Latitude\"\n",
    "y_label = \"Wind Speed\"\n",
    "x_values = HemiSouthDF[\"Lat\"]\n",
    "y_values = HemiSouthDF[\"Wind Speed\"]\n",
    "imagefile = \"reg_windspeed_latitude_hemi_s.png\"\n",
    "\n",
    "(slope, intercept, rvalue, pvalue, stderr) = linregress(x_values, y_values)\n",
    "regress_values = x_values * slope + intercept\n",
    "line_eq = \"y = \" + str(round(slope,2)) + \"x + \" + str(round(intercept,2))\n",
    "\n",
    "plt.scatter(x_values, y_values)\n",
    "plt.plot(x_values, regress_values, c=\"r\", label=line_eq)\n",
    "plt.title(plot_title)\n",
    "plt.xlabel(x_label)\n",
    "plt.ylabel(y_label)\n",
    "plt.legend(loc='best')\n",
    "plt.savefig(output_data_folder + imagefile)\n",
    "plt.show()"
   ]
  },
  {
   "cell_type": "code",
   "execution_count": 31,
   "metadata": {},
   "outputs": [
    {
     "name": "stdout",
     "output_type": "stream",
     "text": [
      "The correlation between both factors is -0.18\n"
     ]
    }
   ],
   "source": [
    "correlation = st.pearsonr(x_values, y_values)\n",
    "print(f\"The correlation between both factors is {round(correlation[0],2)}\")"
   ]
  },
  {
   "cell_type": "markdown",
   "metadata": {},
   "source": [
    "The plot above shows there is a negative correlation between wind speed and latitude in the Southern Hemisphere."
   ]
  },
  {
   "cell_type": "code",
   "execution_count": null,
   "metadata": {},
   "outputs": [],
   "source": []
  }
 ],
 "metadata": {
  "anaconda-cloud": {},
  "kernel_info": {
   "name": "python3"
  },
  "kernelspec": {
   "display_name": "Python 3 (ipykernel)",
   "language": "python",
   "name": "python3"
  },
  "language_info": {
   "codemirror_mode": {
    "name": "ipython",
    "version": 3
   },
   "file_extension": ".py",
   "mimetype": "text/x-python",
   "name": "python",
   "nbconvert_exporter": "python",
   "pygments_lexer": "ipython3",
   "version": "3.9.12"
  },
  "latex_envs": {
   "LaTeX_envs_menu_present": true,
   "autoclose": false,
   "autocomplete": true,
   "bibliofile": "biblio.bib",
   "cite_by": "apalike",
   "current_citInitial": 1,
   "eqLabelWithNumbers": true,
   "eqNumInitial": 1,
   "hotkeys": {
    "equation": "Ctrl-E",
    "itemize": "Ctrl-I"
   },
   "labels_anchors": false,
   "latex_user_defs": false,
   "report_style_numbering": false,
   "user_envs_cfg": false
  },
  "nteract": {
   "version": "0.12.3"
  }
 },
 "nbformat": 4,
 "nbformat_minor": 2
}
